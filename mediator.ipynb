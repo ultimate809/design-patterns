{
 "cells": [
  {
   "cell_type": "code",
   "execution_count": 11,
   "metadata": {},
   "outputs": [],
   "source": [
    "from abc import ABC, abstractmethod\n",
    "\n",
    "class Mediator(ABC):\n",
    "    @abstractmethod\n",
    "    def notify(self,origin):\n",
    "        pass\n",
    "\n",
    "class ControlTower(Mediator):\n",
    "    def __init__(self):\n",
    "        self.components = []\n",
    "    def register(self,component):\n",
    "        self.components.append(component)\n",
    "    def notify(self,origin,msg):\n",
    "        for comp in self.components:\n",
    "            if comp.name != origin.name:\n",
    "                comp.receive(origin,msg)\n",
    "\n"
   ]
  },
  {
   "cell_type": "code",
   "execution_count": 16,
   "metadata": {},
   "outputs": [],
   "source": [
    "# Component\n",
    "class Flight:\n",
    "    def __init__(self, mediator, name):\n",
    "        self.mediator = mediator\n",
    "        self.name = name\n",
    "        self.mediator.register(self)\n",
    "    def send(self,msg):\n",
    "        self.mediator.notify(self,msg)\n",
    "    def receive(self,origin,msg):\n",
    "        print(f\"Flight {self.name} Received from Control Tower\\n {origin.name} : {msg}\")\n",
    "\n",
    "class GroundStaff:\n",
    "    def __init__(self, mediator, name):\n",
    "        self.mediator = mediator\n",
    "        self.name = name\n",
    "        self.mediator.register(self)\n",
    "    def send(self,msg):\n",
    "        self.mediator.notify(self,msg)\n",
    "    def receive(self,origin,msg):\n",
    "        print(f\"Ground Staff of {self.name} Received from Control Tower\\n {origin.name} : {msg} \")\n"
   ]
  },
  {
   "cell_type": "code",
   "execution_count": 17,
   "metadata": {},
   "outputs": [
    {
     "name": "stdout",
     "output_type": "stream",
     "text": [
      "Flight AirIndia Received from Control Tower\n",
      " Indigo : Arriving in 10 mins\n",
      "Ground Staff of Jolly Grant Received from Control Tower\n",
      " Indigo : Arriving in 10 mins \n"
     ]
    }
   ],
   "source": [
    "# Client\n",
    "\n",
    "MEDIATOR = ControlTower()\n",
    "\n",
    "flight1 = Flight(MEDIATOR, \"Indigo\")\n",
    "flight2 = Flight(MEDIATOR, \"AirIndia\")\n",
    "staff = GroundStaff(MEDIATOR, \"Jolly Grant\")\n",
    "\n",
    "flight1.send(\"Arriving in 10 mins\")\n"
   ]
  }
 ],
 "metadata": {
  "kernelspec": {
   "display_name": "base",
   "language": "python",
   "name": "python3"
  },
  "language_info": {
   "codemirror_mode": {
    "name": "ipython",
    "version": 3
   },
   "file_extension": ".py",
   "mimetype": "text/x-python",
   "name": "python",
   "nbconvert_exporter": "python",
   "pygments_lexer": "ipython3",
   "version": "3.12.4"
  }
 },
 "nbformat": 4,
 "nbformat_minor": 2
}
