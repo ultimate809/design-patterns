{
 "cells": [
  {
   "cell_type": "code",
   "execution_count": 23,
   "metadata": {},
   "outputs": [],
   "source": [
    "from abc import ABC, abstractmethod\n",
    "from typing import Set"
   ]
  },
  {
   "cell_type": "code",
   "execution_count": 32,
   "metadata": {},
   "outputs": [],
   "source": [
    "# Publishers\n",
    "class Publisher:\n",
    "    subscribers: Set = set()\n",
    "\n",
    "    @abstractmethod\n",
    "    def subscribe(self,subscriber):\n",
    "        pass\n",
    "    @abstractmethod\n",
    "    def unsubscribe(self,subscriber):\n",
    "        pass\n",
    "    @abstractmethod\n",
    "    def notify(self,event):\n",
    "        pass\n",
    "\n",
    "class PhoneStore(Publisher):\n",
    "    def __init__(self):\n",
    "        self.subscibers = set()\n",
    "    def subscribe(self,subscriber):\n",
    "        self.subscribers.add(subscriber)\n",
    "    def unsubscribe(self,subscriber):\n",
    "        self.subscribers.discard(subscriber)\n",
    "    def notify(self,event):\n",
    "        for sub in self.subscribers:\n",
    "            sub.listen(event)"
   ]
  },
  {
   "cell_type": "code",
   "execution_count": 33,
   "metadata": {},
   "outputs": [],
   "source": [
    "# Observers\n",
    "class Subscriber():\n",
    "    def listen(self,event):\n",
    "        print(event)\n",
    "\n",
    "class IphoneEnthusiast(Subscriber):\n",
    "    def listen(self,event):\n",
    "        if 'iphone' in event:\n",
    "            print(f\"{self.__class__.__name__} is coming\")\n",
    "\n",
    "class OneplusSeeker(Subscriber):\n",
    "    def listen(self,event):\n",
    "        if 'oneplus' in event:\n",
    "            print(f\"{self.__class__.__name__} is coming\")"
   ]
  },
  {
   "cell_type": "code",
   "execution_count": 34,
   "metadata": {},
   "outputs": [
    {
     "name": "stdout",
     "output_type": "stream",
     "text": [
      "IphoneEnthusiast is coming\n",
      "OneplusSeeker is coming\n"
     ]
    }
   ],
   "source": [
    "# Client\n",
    "\n",
    "croma = PhoneStore()\n",
    "p1 = IphoneEnthusiast()\n",
    "p2 = OneplusSeeker()\n",
    "\n",
    "croma.subscribe(p1)\n",
    "croma.subscribe(p2)\n",
    "\n",
    "croma.notify(\"Sale on iphone and oneplus\")"
   ]
  }
 ],
 "metadata": {
  "kernelspec": {
   "display_name": "base",
   "language": "python",
   "name": "python3"
  },
  "language_info": {
   "codemirror_mode": {
    "name": "ipython",
    "version": 3
   },
   "file_extension": ".py",
   "mimetype": "text/x-python",
   "name": "python",
   "nbconvert_exporter": "python",
   "pygments_lexer": "ipython3",
   "version": "3.12.4"
  }
 },
 "nbformat": 4,
 "nbformat_minor": 2
}
