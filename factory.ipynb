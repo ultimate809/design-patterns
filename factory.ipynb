{
 "cells": [
  {
   "cell_type": "code",
   "execution_count": 32,
   "metadata": {},
   "outputs": [],
   "source": [
    "# Product\n",
    "from abc import ABC, abstractmethod\n",
    "class Vehicle(ABC):\n",
    "    @abstractmethod\n",
    "    def set_no_of_wheels(self):\n",
    "        pass\n",
    "    @abstractmethod\n",
    "    def set_security(self):\n",
    "        pass"
   ]
  },
  {
   "cell_type": "code",
   "execution_count": 33,
   "metadata": {},
   "outputs": [],
   "source": [
    "# Concrete Products\n",
    "class TwoWheeler(Vehicle):\n",
    "    def set_no_of_wheels(self):\n",
    "        print(\"Wheels   : 2\")\n",
    "    def set_security(self):\n",
    "        print(\"Security : Helmet\")\n",
    "\n",
    "class Fourwheeler(Vehicle):\n",
    "    def set_no_of_wheels(self):\n",
    "        print(\"Wheels   : 4\")\n",
    "    def set_security(self):\n",
    "        print(\"Security : Seat Belt\")"
   ]
  },
  {
   "cell_type": "code",
   "execution_count": 35,
   "metadata": {},
   "outputs": [],
   "source": [
    "# Factory Abstraction\n",
    "from abc import ABC, abstractmethod\n",
    "class VehicleFactory(ABC):\n",
    "    @abstractmethod\n",
    "    def make_vehicle(self):\n",
    "        pass\n",
    "\n",
    "    def run_vehicle(self):\n",
    "        gaadi = self.make_vehicle()\n",
    "        gaadi.set_no_of_wheels()\n",
    "        gaadi.set_security()\n",
    "\n",
    "        return gaadi"
   ]
  },
  {
   "cell_type": "code",
   "execution_count": 36,
   "metadata": {},
   "outputs": [],
   "source": [
    "# Concrete Factory Classes\n",
    "\n",
    "class BajajVehicleFactory(VehicleFactory):\n",
    "    def make_vehicle(self):\n",
    "        return TwoWheeler()\n",
    "class MarutiVehicleFactory(VehicleFactory):\n",
    "    def make_vehicle(self):\n",
    "        return Fourwheeler()"
   ]
  },
  {
   "cell_type": "code",
   "execution_count": 37,
   "metadata": {},
   "outputs": [
    {
     "name": "stdout",
     "output_type": "stream",
     "text": [
      "Wheels   : 2\n",
      "Security : Helmet\n"
     ]
    },
    {
     "data": {
      "text/plain": [
       "<__main__.TwoWheeler at 0x1068f52b0>"
      ]
     },
     "execution_count": 37,
     "metadata": {},
     "output_type": "execute_result"
    }
   ],
   "source": [
    "# Client\n",
    "\n",
    "gaadi = BajajVehicleFactory()\n",
    "gaadi.run_vehicle()\n"
   ]
  }
 ],
 "metadata": {
  "kernelspec": {
   "display_name": "base",
   "language": "python",
   "name": "python3"
  },
  "language_info": {
   "codemirror_mode": {
    "name": "ipython",
    "version": 3
   },
   "file_extension": ".py",
   "mimetype": "text/x-python",
   "name": "python",
   "nbconvert_exporter": "python",
   "pygments_lexer": "ipython3",
   "version": "3.12.4"
  }
 },
 "nbformat": 4,
 "nbformat_minor": 2
}
