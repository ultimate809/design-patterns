{
 "cells": [
  {
   "cell_type": "code",
   "execution_count": 17,
   "metadata": {},
   "outputs": [],
   "source": [
    "from abc import ABC, abstractmethod\n",
    "from typing import Self\n",
    "\n",
    "# Abstract Container\n",
    "\n",
    "class MoneyDispenser(ABC):\n",
    "\n",
    "    def set_next_handler(self,successor : Self):\n",
    "        self.successor = successor\n",
    "\n",
    "    @abstractmethod\n",
    "    def process(self,amount):\n",
    "        pass"
   ]
  },
  {
   "cell_type": "code",
   "execution_count": 18,
   "metadata": {},
   "outputs": [],
   "source": [
    "# Chain of Containers\n",
    "\n",
    "class FiftyNoteDispenser(MoneyDispenser):\n",
    "    def process(self,amount):\n",
    "        if amount >= 50:\n",
    "            notes = amount // 50\n",
    "            amount = amount % 50\n",
    "            print(\"Number of 50 notes : \",str(notes))\n",
    "        if amount !=0:\n",
    "            if self.successor:\n",
    "                return self.successor.process(amount)\n",
    "        else:\n",
    "            return True\n",
    "\n",
    "\n",
    "class TenNoteDispenser(MoneyDispenser):\n",
    "    def process(self,amount):\n",
    "        if amount >= 10:\n",
    "            notes = amount // 10\n",
    "            amount = amount % 10\n",
    "            print(\"Number of 10 notes : \",str(notes))\n",
    "        if amount !=0:\n",
    "            if self.successor:\n",
    "                return self.successor.process(amount)\n",
    "        else:\n",
    "            return True\n",
    "\n",
    "class OneCoinDispenser(MoneyDispenser):\n",
    "    def process(self,amount):\n",
    "        if amount >= 1 :\n",
    "            print(\"Number of 1 coins : \",str(amount))\n",
    "            amount = 0\n",
    "            return True\n",
    "        else:\n",
    "            if self.successor:\n",
    "                return self.successor.process(amount)  # Will never reach here\n"
   ]
  },
  {
   "cell_type": "code",
   "execution_count": 19,
   "metadata": {},
   "outputs": [],
   "source": [
    "# Application\n",
    "\n",
    "class ATM():\n",
    "    def __init__(self):\n",
    "        self.fifty = FiftyNoteDispenser()\n",
    "        self.ten = TenNoteDispenser()\n",
    "        self.one = OneCoinDispenser()\n",
    "\n",
    "        self.fifty.set_next_handler(self.ten)\n",
    "        self.ten.set_next_handler(self.one)\n",
    "\n",
    "    def dispense_notes(self,amount):\n",
    "        valid = True\n",
    "        try:\n",
    "            if int(amount) < 0:\n",
    "                valid = False\n",
    "        except ValueError:\n",
    "            valid = False\n",
    "        if not valid:\n",
    "            print(\"Enter Valid Amount\")\n",
    "        self.fifty.process(amount)\n",
    "\n"
   ]
  },
  {
   "cell_type": "code",
   "execution_count": 21,
   "metadata": {},
   "outputs": [
    {
     "name": "stdout",
     "output_type": "stream",
     "text": [
      "Number of 50 notes :  5\n",
      "Number of 10 notes :  3\n",
      "Number of 1 coins :  4\n"
     ]
    }
   ],
   "source": [
    "# Client\n",
    "\n",
    "ATM().dispense_notes(284)"
   ]
  }
 ],
 "metadata": {
  "kernelspec": {
   "display_name": "base",
   "language": "python",
   "name": "python3"
  },
  "language_info": {
   "codemirror_mode": {
    "name": "ipython",
    "version": 3
   },
   "file_extension": ".py",
   "mimetype": "text/x-python",
   "name": "python",
   "nbconvert_exporter": "python",
   "pygments_lexer": "ipython3",
   "version": "3.12.4"
  }
 },
 "nbformat": 4,
 "nbformat_minor": 2
}
