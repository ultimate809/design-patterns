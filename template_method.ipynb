{
 "cells": [
  {
   "cell_type": "code",
   "execution_count": 9,
   "metadata": {},
   "outputs": [],
   "source": [
    "from abc import ABC, abstractmethod\n",
    "class Bread(ABC):\n",
    "\n",
    "    @abstractmethod\n",
    "    def get_size(self):\n",
    "        pass\n",
    "    @abstractmethod\n",
    "    def get_material(self):\n",
    "        pass\n",
    "    @abstractmethod\n",
    "    def bake_time(self):\n",
    "        pass\n",
    "    def get_shape(self):\n",
    "        return \"Square\"\n",
    "\n",
    "    def prepare(self):   # Template Method which shall not be overridden\n",
    "        print(f\"\\nRecipe for {self.__class__.__name__} : -\")\n",
    "        # Prepare Raw Materials\n",
    "        material = self.get_material()\n",
    "        size = self.get_size()\n",
    "        print(f\"Bread will be prepare with material : {material} and size : {size}\")\n",
    "\n",
    "        # Bake the bread\n",
    "        time = self.bake_time()\n",
    "        print(f\"Bake for {time} mins\")\n",
    "\n",
    "        # Slicing\n",
    "        shape = self.get_shape()\n",
    "        print(f\"Bread cut into {shape}\")\n"
   ]
  },
  {
   "cell_type": "code",
   "execution_count": 10,
   "metadata": {},
   "outputs": [],
   "source": [
    "class WheatBread(Bread):\n",
    "    def get_size(self):\n",
    "        return \"Standard\"\n",
    "    def get_material(self):\n",
    "        return \"Wheat\"\n",
    "    def bake_time(self):\n",
    "        return 15\n",
    "\n",
    "class SandwitchBread(Bread):\n",
    "    def get_size(self):\n",
    "        return \"Large\"\n",
    "    def get_material(self):\n",
    "        return \"Maida\"\n",
    "    def bake_time(self):\n",
    "        return 20"
   ]
  },
  {
   "cell_type": "code",
   "execution_count": 12,
   "metadata": {},
   "outputs": [
    {
     "name": "stdout",
     "output_type": "stream",
     "text": [
      "\n",
      "Recipe for WheatBread : -\n",
      "Bread will be prepare with material : Wheat and size : Standard\n",
      "Bake for 15 mins\n",
      "Bread cut into Square\n",
      "\n",
      "Recipe for SandwitchBread : -\n",
      "Bread will be prepare with material : Maida and size : Large\n",
      "Bake for 20 mins\n",
      "Bread cut into Square\n"
     ]
    }
   ],
   "source": [
    "home_bread = WheatBread()\n",
    "home_bread.prepare()\n",
    "\n",
    "cafe_bread = SandwitchBread()\n",
    "cafe_bread.prepare()"
   ]
  }
 ],
 "metadata": {
  "kernelspec": {
   "display_name": "base",
   "language": "python",
   "name": "python3"
  },
  "language_info": {
   "codemirror_mode": {
    "name": "ipython",
    "version": 3
   },
   "file_extension": ".py",
   "mimetype": "text/x-python",
   "name": "python",
   "nbconvert_exporter": "python",
   "pygments_lexer": "ipython3",
   "version": "3.12.4"
  }
 },
 "nbformat": 4,
 "nbformat_minor": 2
}
