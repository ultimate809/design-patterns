{
 "cells": [
  {
   "cell_type": "code",
   "execution_count": 6,
   "metadata": {},
   "outputs": [],
   "source": [
    "from abc import ABC,abstractmethod\n",
    "\n",
    "# Receiver\n",
    "\n",
    "class Light:\n",
    "    def turn_on(self):\n",
    "        print(\"Lights are bright\")\n",
    "    def turn_dim(self):\n",
    "        print(\"Lights are dim\")\n",
    "    def turn_off(self):\n",
    "        print(\"Lights are off\")\n",
    "\n",
    "class Stereo:\n",
    "    def turn_loud(self):\n",
    "        print(\"Music is Loud\")\n",
    "    def turn_low(self):\n",
    "        print(\"Music is soothing\")\n",
    "    def turn_off(self):\n",
    "        print(\"No music\")"
   ]
  },
  {
   "cell_type": "code",
   "execution_count": 7,
   "metadata": {},
   "outputs": [],
   "source": [
    "# Command Interface\n",
    "\n",
    "class Command(ABC):\n",
    "    def execute(self):\n",
    "        pass\n",
    "\n",
    "# Concrete Commands\n",
    "class SwitchOnLights(Command):\n",
    "    def __init__(self,bulb):\n",
    "        self.bulb = bulb\n",
    "    def execute(self):\n",
    "        self.bulb.turn_on()\n",
    "\n",
    "class SwitchDimLights(Command):\n",
    "    def __init__(self,bulb):\n",
    "        self.bulb = bulb\n",
    "    def execute(self):\n",
    "        self.bulb.turn_dim()\n",
    "\n",
    "class LoudMusic(Command):\n",
    "    def __init__(self,stereo):\n",
    "        self.stereo = stereo\n",
    "    def execute(self):\n",
    "        self.stereo.turn_loud()\n",
    "\n",
    "class NoMusic(Command):\n",
    "    def __init__(self,stereo):\n",
    "        self.stereo = stereo\n",
    "    def execute(self):\n",
    "        self.stereo.turn_off()\n"
   ]
  },
  {
   "cell_type": "code",
   "execution_count": 11,
   "metadata": {},
   "outputs": [],
   "source": [
    "# Invoker\n",
    "\n",
    "class Administrator:\n",
    "    def __init__(self):\n",
    "        self.environments = {}\n",
    "        self.history = []\n",
    "\n",
    "    def register(self,name: str,commands: list):\n",
    "        self.environments[name] = commands\n",
    "\n",
    "    def implement(self,name):\n",
    "        for com in self.environments[name]:\n",
    "            com.execute()\n",
    "        self.history.append(name)\n",
    "\n",
    "    def replay_last(self):\n",
    "        for com in self.environments[self.history[-1]]:\n",
    "            com.execute()"
   ]
  },
  {
   "cell_type": "code",
   "execution_count": 15,
   "metadata": {},
   "outputs": [
    {
     "name": "stdout",
     "output_type": "stream",
     "text": [
      "\n",
      "DJ :\n",
      "Lights are dim\n",
      "Music is Loud\n",
      "\n",
      "Sleep :\n",
      "Lights are dim\n",
      "No music\n",
      "\n",
      "Normal :\n",
      "Lights are bright\n",
      "No music\n",
      "\n",
      "Replay :\n",
      "Lights are bright\n",
      "No music\n"
     ]
    }
   ],
   "source": [
    "# Client\n",
    "\n",
    "## Create Admin Panel\n",
    "admin = Administrator()\n",
    "\n",
    "## Create Receivers\n",
    "light = Light()\n",
    "music_system = Stereo()\n",
    "\n",
    "## Resiter Commands\n",
    "admin.register('dj',[SwitchDimLights(light),LoudMusic(music_system)])\n",
    "admin.register('sleep',[SwitchDimLights(light),NoMusic(music_system)])\n",
    "admin.register('normal',[SwitchOnLights(light),NoMusic(music_system)])\n",
    "\n",
    "## Execute Commands\n",
    "print(\"\\nDJ :\")\n",
    "admin.implement('dj')\n",
    "\n",
    "print(\"\\nSleep :\")\n",
    "admin.implement('sleep')\n",
    "\n",
    "print(\"\\nNormal :\")\n",
    "admin.implement('normal')\n",
    "\n",
    "## Replay\n",
    "print(\"\\nReplay :\")\n",
    "admin.replay_last()\n",
    "\n",
    "\n"
   ]
  }
 ],
 "metadata": {
  "kernelspec": {
   "display_name": "base",
   "language": "python",
   "name": "python3"
  },
  "language_info": {
   "codemirror_mode": {
    "name": "ipython",
    "version": 3
   },
   "file_extension": ".py",
   "mimetype": "text/x-python",
   "name": "python",
   "nbconvert_exporter": "python",
   "pygments_lexer": "ipython3",
   "version": "3.12.4"
  }
 },
 "nbformat": 4,
 "nbformat_minor": 2
}
