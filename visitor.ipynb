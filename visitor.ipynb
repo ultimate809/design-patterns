{
 "cells": [
  {
   "cell_type": "code",
   "execution_count": 28,
   "metadata": {},
   "outputs": [],
   "source": [
    "\n",
    "from abc import ABC, abstractmethod\n",
    "\n",
    "# Element\n",
    "class Institution(ABC):\n",
    "    @abstractmethod\n",
    "    def accept(self):\n",
    "        pass\n"
   ]
  },
  {
   "cell_type": "code",
   "execution_count": 29,
   "metadata": {},
   "outputs": [],
   "source": [
    "# Visitor Inteface\n",
    "class Visitor(ABC):\n",
    "    @abstractmethod\n",
    "    def visit_for_bank(self,instituition):\n",
    "        pass\n",
    "    def visit_for_school(self,instituition):\n",
    "        pass"
   ]
  },
  {
   "cell_type": "code",
   "execution_count": 30,
   "metadata": {},
   "outputs": [],
   "source": [
    "# Concrete Elements\n",
    "class Bank(Institution):\n",
    "    def operation(self):\n",
    "        print(\"Some Bank Operation\")\n",
    "    def accept(self,visitor: Visitor):\n",
    "        return visitor.visit_for_bank(self)\n",
    "\n",
    "class School(Institution):\n",
    "    def operation(self):\n",
    "        print(\"Some School Operation\")\n",
    "    def accept(self,visitor: Visitor):\n",
    "        return visitor.visit_for_school(self)"
   ]
  },
  {
   "cell_type": "code",
   "execution_count": 31,
   "metadata": {},
   "outputs": [],
   "source": [
    "# Concrete Visitors\n",
    "class InsuranceMailer(Visitor):\n",
    "    clients = []\n",
    "    def send_mail(self):\n",
    "        for client in self.clients:\n",
    "            print(f\"Sending mail to {client.__class__.__name__}\")\n",
    "            print(f\"Email : {client.accept(self)}\")\n",
    "\n",
    "    def visit_for_bank(self,instituition):\n",
    "        return \"Beware of Money Theft\"\n",
    "    def visit_for_school(self,instituition):\n",
    "        return \"Beware of Student Education\""
   ]
  },
  {
   "cell_type": "code",
   "execution_count": 32,
   "metadata": {},
   "outputs": [
    {
     "name": "stdout",
     "output_type": "stream",
     "text": [
      "Sending mail to Bank\n",
      "Email : Beware of Money Theft\n",
      "Sending mail to School\n",
      "Email : Beware of Student Education\n"
     ]
    }
   ],
   "source": [
    "hdfc = Bank()\n",
    "dps = School()\n",
    "\n",
    "visitor = InsuranceMailer()\n",
    "visitor.clients.append(hdfc)\n",
    "visitor.clients.append(dps)\n",
    "\n",
    "visitor.send_mail()\n"
   ]
  }
 ],
 "metadata": {
  "kernelspec": {
   "display_name": "base",
   "language": "python",
   "name": "python3"
  },
  "language_info": {
   "codemirror_mode": {
    "name": "ipython",
    "version": 3
   },
   "file_extension": ".py",
   "mimetype": "text/x-python",
   "name": "python",
   "nbconvert_exporter": "python",
   "pygments_lexer": "ipython3",
   "version": "3.12.4"
  }
 },
 "nbformat": 4,
 "nbformat_minor": 2
}
