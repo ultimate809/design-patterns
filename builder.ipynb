{
 "cells": [
  {
   "cell_type": "code",
   "execution_count": 20,
   "metadata": {},
   "outputs": [],
   "source": [
    "# Product\n",
    "\n",
    "class House():\n",
    "    def __init__(self):\n",
    "        self.floors = None\n",
    "        self.rooftype = None\n",
    "        self.material = None\n",
    "\n",
    "    def __str__(self):\n",
    "        return f\"House Specs -: \\n \" \\\n",
    "            f\"Material  : {self.material}\\n \" \\\n",
    "            f\"Floors    : {self.floors}\\n \" \\\n",
    "            f\"Roof Type : {self.rooftype}\\n\""
   ]
  },
  {
   "cell_type": "code",
   "execution_count": 60,
   "metadata": {},
   "outputs": [],
   "source": [
    "# Builder\n",
    "from abc import ABC, abstractmethod\n",
    "\n",
    "class HouseBuilder(ABC):\n",
    "    def __init__(self):\n",
    "        self.house = House()\n",
    "\n",
    "    def build(self):\n",
    "        return self.house\n",
    "\n",
    "    @abstractmethod\n",
    "    def set_floors(self):\n",
    "        pass\n",
    "    @abstractmethod\n",
    "    def set_material(self):\n",
    "        pass\n",
    "    @abstractmethod\n",
    "    def set_rooftype(self):\n",
    "        pass"
   ]
  },
  {
   "cell_type": "code",
   "execution_count": 61,
   "metadata": {},
   "outputs": [],
   "source": [
    "# Concrete Builder\n",
    "class Apartment(HouseBuilder):\n",
    "\n",
    "    def set_floors(self):\n",
    "        self.house.floors = 5\n",
    "        return self\n",
    "    def set_material(self):\n",
    "        self.house.material = \"Bricks\"\n",
    "        return self\n",
    "    def set_rooftype(self):\n",
    "        self.house.rooftype = \"Flat\"\n",
    "        return self\n",
    "\n",
    "class Igloo(HouseBuilder):\n",
    "    def set_floors(self):\n",
    "        self.house.floors = 1\n",
    "        return self\n",
    "    def set_material(self):\n",
    "        self.house.material = \"Ice\"\n",
    "        return self\n",
    "    def set_rooftype(self):\n",
    "        self.house.rooftype = \"Round\"\n",
    "        return self"
   ]
  },
  {
   "cell_type": "code",
   "execution_count": 62,
   "metadata": {},
   "outputs": [],
   "source": [
    "# Director\n",
    "\n",
    "class Director():\n",
    "    def __init__(self, builder: HouseBuilder):\n",
    "        self.builder = builder\n",
    "    def construct(self):\n",
    "        return self.builder.set_material().set_floors().set_rooftype().build()"
   ]
  },
  {
   "cell_type": "code",
   "execution_count": 63,
   "metadata": {},
   "outputs": [
    {
     "name": "stdout",
     "output_type": "stream",
     "text": [
      "House Specs -: \n",
      " Material  : Ice\n",
      " Floors    : 1\n",
      " Roof Type : Round\n",
      "\n",
      "House Specs -: \n",
      " Material  : Bricks\n",
      " Floors    : 5\n",
      " Roof Type : Flat\n",
      "\n"
     ]
    }
   ],
   "source": [
    "# Client\n",
    "\n",
    "builder = Igloo()\n",
    "director = Director(builder)\n",
    "\n",
    "house = director.construct()\n",
    "print(house)\n",
    "\n",
    "# Client 2\n",
    "\n",
    "builder = Apartment()\n",
    "director = Director(builder)\n",
    "\n",
    "house = director.construct()\n",
    "print(house)\n"
   ]
  },
  {
   "cell_type": "code",
   "execution_count": null,
   "metadata": {},
   "outputs": [],
   "source": []
  },
  {
   "cell_type": "code",
   "execution_count": null,
   "metadata": {},
   "outputs": [],
   "source": []
  }
 ],
 "metadata": {
  "kernelspec": {
   "display_name": "base",
   "language": "python",
   "name": "python3"
  },
  "language_info": {
   "codemirror_mode": {
    "name": "ipython",
    "version": 3
   },
   "file_extension": ".py",
   "mimetype": "text/x-python",
   "name": "python",
   "nbconvert_exporter": "python",
   "pygments_lexer": "ipython3",
   "version": "3.12.4"
  }
 },
 "nbformat": 4,
 "nbformat_minor": 2
}
