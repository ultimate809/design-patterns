{
 "cells": [
  {
   "cell_type": "code",
   "execution_count": 15,
   "metadata": {},
   "outputs": [],
   "source": [
    "from abc import ABC, abstractmethod\n",
    "from typing import List\n",
    "from collections import defaultdict"
   ]
  },
  {
   "cell_type": "code",
   "execution_count": 90,
   "metadata": {},
   "outputs": [],
   "source": [
    "# Strategy Interface\n",
    "class DivisionStrategy(ABC):\n",
    "\n",
    "    def __init__(self,division: List[int] = None):\n",
    "        self.division : List = division\n",
    "\n",
    "    @abstractmethod\n",
    "    def amount_splits(self,amount):\n",
    "        pass\n",
    "\n",
    "# COncrete Strategies\n",
    "class Equal(DivisionStrategy):\n",
    "\n",
    "    def amount_splits(self,amount,person_list):\n",
    "        n = len(person_list)\n",
    "        result = [ amount/n ] *n\n",
    "        return result\n",
    "\n",
    "class Percentages(DivisionStrategy):\n",
    "\n",
    "    def amount_splits(self,amount,person_list):\n",
    "        result = []\n",
    "        n = len(person_list)\n",
    "        for i in range(n):\n",
    "            result.append(self.division[i] * amount / 100)\n",
    "        return result\n",
    "\n",
    "class Ratio(DivisionStrategy):\n",
    "\n",
    "    def amount_splits(self,amount,person_list):\n",
    "        result = []\n",
    "        n = len(person_list)\n",
    "        ratio_sum = sum(self.division)\n",
    "        for i in range(n):\n",
    "            result.append(self.division[i] * amount / ratio_sum)\n",
    "        return result\n"
   ]
  },
  {
   "cell_type": "code",
   "execution_count": 91,
   "metadata": {},
   "outputs": [],
   "source": [
    "# Set Stretegy to use in this class constructor\n",
    "class Entry:\n",
    "    payor: str = None\n",
    "    paid_for: List[str] = None\n",
    "    amount: str = 0\n",
    "    division_strategy: DivisionStrategy = None\n",
    "\n",
    "    def __init__(self,payor,paid_for,amount,division_strategy):\n",
    "       self.payor = payor\n",
    "       self.paid_for = paid_for\n",
    "       self.amount = amount\n",
    "       self.division_strategy = division_strategy"
   ]
  },
  {
   "cell_type": "code",
   "execution_count": 95,
   "metadata": {},
   "outputs": [],
   "source": [
    "# Contect Application\n",
    "\n",
    "class Splitwise:\n",
    "    def __init__(self):\n",
    "        self.transactions: List[Entry] = []\n",
    "        self.people = []\n",
    "\n",
    "    def register(self,person_name):\n",
    "        self.people.append(person_name)\n",
    "\n",
    "    def add_entry(self,transaction: Entry):\n",
    "       self.transactions.append(transaction)\n",
    "\n",
    "# Process output from strategies\n",
    "    def process_final_amount(self):\n",
    "        split_dict = defaultdict(int)\n",
    "\n",
    "        for e in self.transactions:\n",
    "            split_dict[e.payor] += e.amount\n",
    "            result_split = e.division_strategy.amount_splits(e.amount,e.paid_for)\n",
    "\n",
    "            for i in range(len(result_split)):\n",
    "                split_dict[e.paid_for[i]] -= result_split[i]\n",
    "\n",
    "        return split_dict\n"
   ]
  },
  {
   "cell_type": "code",
   "execution_count": 94,
   "metadata": {},
   "outputs": [
    {
     "data": {
      "text/plain": [
       "defaultdict(int, {'A': 4100.0, 'B': -4100.0})"
      ]
     },
     "execution_count": 94,
     "metadata": {},
     "output_type": "execute_result"
    }
   ],
   "source": [
    "# Client\n",
    "\n",
    "s = Splitwise()\n",
    "\n",
    "s.register('A')\n",
    "s.register('B')\n",
    "\n",
    "e1 = Entry('A',['A','B'],1000,Equal())\n",
    "e2 = Entry('A',['A','B'],3000,Percentages([10,90]))\n",
    "e3 = Entry('A',['A','B'],1000,Ratio([1,9]))\n",
    "s.add_entry(e1)\n",
    "s.add_entry(e2)\n",
    "s.add_entry(e3)\n",
    "s.process_final_amount()"
   ]
  },
  {
   "cell_type": "code",
   "execution_count": null,
   "metadata": {},
   "outputs": [],
   "source": []
  },
  {
   "cell_type": "code",
   "execution_count": null,
   "metadata": {},
   "outputs": [],
   "source": []
  }
 ],
 "metadata": {
  "kernelspec": {
   "display_name": "base",
   "language": "python",
   "name": "python3"
  },
  "language_info": {
   "codemirror_mode": {
    "name": "ipython",
    "version": 3
   },
   "file_extension": ".py",
   "mimetype": "text/x-python",
   "name": "python",
   "nbconvert_exporter": "python",
   "pygments_lexer": "ipython3",
   "version": "3.12.4"
  }
 },
 "nbformat": 4,
 "nbformat_minor": 2
}
