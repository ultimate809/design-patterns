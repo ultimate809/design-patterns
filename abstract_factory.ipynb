{
 "cells": [
  {
   "cell_type": "code",
   "execution_count": 46,
   "metadata": {},
   "outputs": [],
   "source": [
    "from abc import ABC , abstractmethod\n",
    "\n",
    "# Product Interface\n",
    "class Chair(ABC):\n",
    "    @abstractmethod\n",
    "    def set_legs(self):\n",
    "        pass\n",
    "    @abstractmethod\n",
    "    def set_material_type(self):\n",
    "        pass\n",
    "    def __str__(self):\n",
    "        return f\"{self.__class__.__name__} : {self.set_legs()} and {self.set_material_type()}\"\n",
    "\n",
    "# Concrete Products\n",
    "class Sofa(Chair):\n",
    "    def set_legs(self):\n",
    "        return \"I have 4 legs\"\n",
    "    def set_material_type(self):\n",
    "        return \"I am made of Cotton and fully cushioned\"\n",
    "\n",
    "class ComputerChair(Chair):\n",
    "    def set_legs(self):\n",
    "        return \"I have 1 leg\"\n",
    "    def set_material_type(self):\n",
    "        return \"I am made of leather and adjustable\"\n"
   ]
  },
  {
   "cell_type": "code",
   "execution_count": 47,
   "metadata": {},
   "outputs": [],
   "source": [
    "# Product Interface\n",
    "class Table(ABC):\n",
    "    @abstractmethod\n",
    "    def purpose(self):\n",
    "        pass\n",
    "    def __str__(self):\n",
    "        return f\"{self.__class__.__name__} : {self.purpose()}\"\n",
    "\n",
    "# Concrete Products\n",
    "class CoffeeTable(Table):\n",
    "    def purpose(self):\n",
    "        return \"I am used to keep coffee and snacks\"\n",
    "\n",
    "class ComputerTable(Table):\n",
    "    def purpose(self):\n",
    "        return \"I am used to keep a PC for workstation\""
   ]
  },
  {
   "cell_type": "code",
   "execution_count": 51,
   "metadata": {},
   "outputs": [],
   "source": [
    "# Abstract Factory\n",
    "from abc import ABC , abstractmethod\n",
    "\n",
    "class SeatingSetup(ABC):\n",
    "    components = []\n",
    "    @abstractmethod\n",
    "    def create_chair(self):\n",
    "        pass\n",
    "    @abstractmethod\n",
    "    def create_table(self):\n",
    "        pass\n",
    "    @abstractmethod\n",
    "    def setup_room(self):\n",
    "        pass\n",
    "    def reset(self):\n",
    "        self.components = []\n",
    "    def display_room_setup(self):\n",
    "        for comp in self.components:\n",
    "            print(comp)\n",
    "\n",
    "class LivingRoomSetup(SeatingSetup):\n",
    "    def create_chair(self):\n",
    "        sofa = Sofa()\n",
    "        self.components.append(sofa)\n",
    "        return self\n",
    "\n",
    "    def create_table(self):\n",
    "        centertable = CoffeeTable()\n",
    "        self.components.append(centertable)\n",
    "        return self\n",
    "\n",
    "    def setup_room(self):\n",
    "        self.reset()\n",
    "        self.create_chair().create_chair().create_table()\n",
    "\n",
    "class HomeOfficeSetup(SeatingSetup):\n",
    "    def create_chair(self):\n",
    "        rocking_chair = ComputerChair()\n",
    "        self.components.append(rocking_chair)\n",
    "        return self\n",
    "    def create_table(self):\n",
    "        wfh_table = ComputerTable()\n",
    "        self.components.append(wfh_table)\n",
    "        return self\n",
    "    def setup_room(self):\n",
    "        self.reset()\n",
    "        self.create_chair().create_table()"
   ]
  },
  {
   "cell_type": "code",
   "execution_count": 52,
   "metadata": {},
   "outputs": [
    {
     "name": "stdout",
     "output_type": "stream",
     "text": [
      "Sofa : I have 4 legs and I am made of Cotton and fully cushioned\n",
      "Sofa : I have 4 legs and I am made of Cotton and fully cushioned\n",
      "CoffeeTable : I am used to keep coffee and snacks\n"
     ]
    }
   ],
   "source": [
    "# Client\n",
    "\n",
    "livingroom = LivingRoomSetup()\n",
    "livingroom.setup_room()\n",
    "livingroom.display_room_setup()\n",
    "\n"
   ]
  },
  {
   "cell_type": "code",
   "execution_count": 53,
   "metadata": {},
   "outputs": [
    {
     "name": "stdout",
     "output_type": "stream",
     "text": [
      "ComputerChair : I have 1 leg and I am made of leather and adjustable\n",
      "ComputerTable : I am used to keep a PC for workstation\n"
     ]
    }
   ],
   "source": [
    "# Client\n",
    "\n",
    "computer_room = HomeOfficeSetup()\n",
    "computer_room.setup_room()\n",
    "computer_room.display_room_setup()"
   ]
  },
  {
   "cell_type": "code",
   "execution_count": null,
   "metadata": {},
   "outputs": [],
   "source": []
  }
 ],
 "metadata": {
  "kernelspec": {
   "display_name": "base",
   "language": "python",
   "name": "python3"
  },
  "language_info": {
   "codemirror_mode": {
    "name": "ipython",
    "version": 3
   },
   "file_extension": ".py",
   "mimetype": "text/x-python",
   "name": "python",
   "nbconvert_exporter": "python",
   "pygments_lexer": "ipython3",
   "version": "3.12.4"
  }
 },
 "nbformat": 4,
 "nbformat_minor": 2
}
