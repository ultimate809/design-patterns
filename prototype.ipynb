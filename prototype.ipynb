{
 "cells": [
  {
   "cell_type": "code",
   "execution_count": 8,
   "metadata": {},
   "outputs": [],
   "source": [
    "# Prototype Iterface\n",
    "\n",
    "from abc import ABC, abstractmethod\n",
    "from typing import Self, List\n",
    "from copy import deepcopy\n",
    "\n",
    "class Prototype(ABC):\n",
    "    @abstractmethod\n",
    "    def clone(self) -> Self:\n",
    "        pass"
   ]
  },
  {
   "cell_type": "code",
   "execution_count": 25,
   "metadata": {},
   "outputs": [],
   "source": [
    "class Pizza(Prototype):\n",
    "    def __init__(self,crust: str, veg: bool, topings: List[str]):\n",
    "        self.crust = crust\n",
    "        self.is_veg = veg\n",
    "        self.topings = topings\n",
    "    def add_topings(self,vege: str):\n",
    "        self.topings.append(vege)\n",
    "        return self\n",
    "\n",
    "    def __str__(self) -> str:\n",
    "        return \"Pizza -: \\n\" \\\n",
    "            f\"Crust  : {self.crust}\\n\" \\\n",
    "            f\"Veg    : {self.is_veg}\\n\" \\\n",
    "            f\"Topings: {self.topings}\\n\"\n",
    "    def clone(self) -> Self:\n",
    "        return deepcopy(self)"
   ]
  },
  {
   "cell_type": "code",
   "execution_count": 26,
   "metadata": {},
   "outputs": [
    {
     "name": "stdout",
     "output_type": "stream",
     "text": [
      "Pizza -: \n",
      "Crust  : thick\n",
      "Veg    : True\n",
      "Topings: ['olives', 'onion']\n",
      "\n"
     ]
    }
   ],
   "source": [
    "# Client\n",
    "\n",
    "paradise = Pizza('thick',True,['olives','onion'])\n",
    "print(paradise)"
   ]
  },
  {
   "cell_type": "code",
   "execution_count": 27,
   "metadata": {},
   "outputs": [
    {
     "name": "stdout",
     "output_type": "stream",
     "text": [
      "Pizza -: \n",
      "Crust  : thick\n",
      "Veg    : True\n",
      "Topings: ['olives', 'onion']\n",
      "\n"
     ]
    }
   ],
   "source": [
    "farmhouse = paradise.clone()\n",
    "print(farmhouse)"
   ]
  },
  {
   "cell_type": "code",
   "execution_count": 28,
   "metadata": {},
   "outputs": [
    {
     "name": "stdout",
     "output_type": "stream",
     "text": [
      "Pizza -: \n",
      "Crust  : thick\n",
      "Veg    : True\n",
      "Topings: ['olives', 'onion', 'mushroon', 'chilli']\n",
      "\n"
     ]
    }
   ],
   "source": [
    "farmhouse.add_topings('mushroon').add_topings('chilli')\n",
    "\n",
    "print(farmhouse)"
   ]
  },
  {
   "cell_type": "code",
   "execution_count": 29,
   "metadata": {},
   "outputs": [
    {
     "name": "stdout",
     "output_type": "stream",
     "text": [
      "Pizza -: \n",
      "Crust  : thick\n",
      "Veg    : True\n",
      "Topings: ['olives', 'onion']\n",
      "\n"
     ]
    }
   ],
   "source": [
    "print(paradise)"
   ]
  },
  {
   "cell_type": "code",
   "execution_count": null,
   "metadata": {},
   "outputs": [],
   "source": []
  }
 ],
 "metadata": {
  "kernelspec": {
   "display_name": "base",
   "language": "python",
   "name": "python3"
  },
  "language_info": {
   "codemirror_mode": {
    "name": "ipython",
    "version": 3
   },
   "file_extension": ".py",
   "mimetype": "text/x-python",
   "name": "python",
   "nbconvert_exporter": "python",
   "pygments_lexer": "ipython3",
   "version": "3.12.4"
  }
 },
 "nbformat": 4,
 "nbformat_minor": 2
}
