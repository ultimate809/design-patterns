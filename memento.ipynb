{
 "cells": [
  {
   "cell_type": "code",
   "execution_count": 1,
   "metadata": {},
   "outputs": [],
   "source": [
    "from typing import List"
   ]
  },
  {
   "cell_type": "code",
   "execution_count": 14,
   "metadata": {},
   "outputs": [],
   "source": [
    "# Functionality class\n",
    "\n",
    "class TextBox:\n",
    "    def __init__(self):\n",
    "        self.textarea = \"\"\n",
    "    def set(self,text):\n",
    "        self.textarea += \" \" + text\n",
    "\n",
    "    def get(self):\n",
    "        return self.textarea\n",
    "\n",
    "    class Memento:\n",
    "        def __init__(self,text_box: TextBox):\n",
    "            self.saved_text = text_box.get()\n",
    "        def get_saved_text(self):\n",
    "            return self.saved_text\n",
    "\n",
    "    def snapshot(self):\n",
    "        return self.Memento(self)\n",
    "\n",
    "    def restore(self,old_textbox: Memento):\n",
    "        self.textarea = old_textbox.get_saved_text()\n"
   ]
  },
  {
   "cell_type": "code",
   "execution_count": 15,
   "metadata": {},
   "outputs": [],
   "source": [
    "# Application\n",
    "\n",
    "class Editor:\n",
    "    def __init__(self):\n",
    "        self.textbox = TextBox()\n",
    "        self.textbox_history: List[Memento] = []\n",
    "\n",
    "    def write(self,text):\n",
    "        snap = self.textbox.snapshot()\n",
    "        self.textbox_history.append(snap)\n",
    "\n",
    "        self.textbox.set(text)\n",
    "\n",
    "    def read(self):\n",
    "        print(self.textbox.get())\n",
    "\n",
    "    def undo(self):\n",
    "        desired_state: Memento = self.textbox_history.pop(-1)\n",
    "        self.textbox.restore(desired_state)\n"
   ]
  },
  {
   "cell_type": "code",
   "execution_count": 18,
   "metadata": {},
   "outputs": [
    {
     "name": "stdout",
     "output_type": "stream",
     "text": [
      " Hello Earth\n",
      " Hello\n",
      " Hello World\n"
     ]
    }
   ],
   "source": [
    "# Client\n",
    "\n",
    "e = Editor()\n",
    "\n",
    "e.write(\"Hello\")\n",
    "e.write(\"Earth\")\n",
    "e.read()\n",
    "e.undo()\n",
    "e.read()\n",
    "e.write(\"World\")\n",
    "e.read()\n",
    "\n",
    "\n"
   ]
  },
  {
   "cell_type": "code",
   "execution_count": null,
   "metadata": {},
   "outputs": [],
   "source": []
  }
 ],
 "metadata": {
  "kernelspec": {
   "display_name": "base",
   "language": "python",
   "name": "python3"
  },
  "language_info": {
   "codemirror_mode": {
    "name": "ipython",
    "version": 3
   },
   "file_extension": ".py",
   "mimetype": "text/x-python",
   "name": "python",
   "nbconvert_exporter": "python",
   "pygments_lexer": "ipython3",
   "version": "3.12.4"
  }
 },
 "nbformat": 4,
 "nbformat_minor": 2
}
