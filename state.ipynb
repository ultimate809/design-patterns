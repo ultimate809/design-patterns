{
 "cells": [
  {
   "cell_type": "code",
   "execution_count": 27,
   "metadata": {},
   "outputs": [],
   "source": [
    "# Context\n",
    "class Phone():\n",
    "\n",
    "    def __init__(self):\n",
    "        self.current_state = OffScreen(self)\n",
    "\n",
    "    def set_state(self,state):\n",
    "        self.current_state = state\n",
    "\n",
    "    def power_button(self):\n",
    "        self.current_state.press_power()\n",
    "    def home_button(self):\n",
    "        self.current_state.press_home()\n",
    "\n",
    "    def home(self):\n",
    "        print(\"On Home Screen\")\n",
    "    def lock(self):\n",
    "        print(\"On Lock Screen\")\n",
    "    def off(self):\n",
    "        print(\"On Off Screen\")\n",
    "    def unlock(self):\n",
    "        print(\"Screen Unlocked and On Home Screen\")"
   ]
  },
  {
   "cell_type": "code",
   "execution_count": 28,
   "metadata": {},
   "outputs": [],
   "source": [
    "from abc import ABC, abstractmethod\n",
    "class State(ABC):\n",
    "    def __init__(self,phone):\n",
    "        self.phone = phone\n",
    "    @abstractmethod\n",
    "    def press_power(self):\n",
    "        pass\n",
    "    @abstractmethod\n",
    "    def press_home(self):\n",
    "        pass\n",
    "\n",
    "class HomeScreen(State):\n",
    "    def press_power(self):\n",
    "        self.phone.set_state(OffScreen(self.phone))\n",
    "        self.phone.off()\n",
    "    def press_home(self):\n",
    "        self.phone.home()\n",
    "\n",
    "class OffScreen(State):\n",
    "    def press_power(self):\n",
    "        self.phone.set_state(LockScreen(self.phone))\n",
    "        self.phone.lock()\n",
    "    def press_home(self):\n",
    "        self.phone.set_state(LockScreen(self.phone))\n",
    "        self.phone.lock()\n",
    "\n",
    "class LockScreen(State):\n",
    "    def press_power(self):\n",
    "        self.phone.set_state(OffScreen(self.phone))\n",
    "        self.phone.off()\n",
    "    def press_home(self):\n",
    "        self.phone.set_state(HomeScreen(self.phone))\n",
    "        self.phone.unlock()\n"
   ]
  },
  {
   "cell_type": "code",
   "execution_count": 29,
   "metadata": {},
   "outputs": [
    {
     "name": "stdout",
     "output_type": "stream",
     "text": [
      "On Lock Screen\n",
      "On Off Screen\n",
      "On Lock Screen\n",
      "Screen Unlocked and On Home Screen\n",
      "On Home Screen\n",
      "On Off Screen\n"
     ]
    }
   ],
   "source": [
    "oneplus = Phone()\n",
    "\n",
    "oneplus.home_button()\n",
    "oneplus.power_button()\n",
    "oneplus.power_button()\n",
    "oneplus.home_button()\n",
    "oneplus.home_button()\n",
    "oneplus.power_button()"
   ]
  }
 ],
 "metadata": {
  "kernelspec": {
   "display_name": "base",
   "language": "python",
   "name": "python3"
  },
  "language_info": {
   "codemirror_mode": {
    "name": "ipython",
    "version": 3
   },
   "file_extension": ".py",
   "mimetype": "text/x-python",
   "name": "python",
   "nbconvert_exporter": "python",
   "pygments_lexer": "ipython3",
   "version": "3.12.4"
  }
 },
 "nbformat": 4,
 "nbformat_minor": 2
}
